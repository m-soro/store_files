{
  "nbformat": 4,
  "nbformat_minor": 0,
  "metadata": {
    "colab": {
      "name": "PaperStore.ipynb",
      "provenance": [],
      "collapsed_sections": [],
      "authorship_tag": "ABX9TyPQioUpJ11XfIUgZywqWnv8",
      "include_colab_link": true
    },
    "kernelspec": {
      "name": "python3",
      "display_name": "Python 3"
    },
    "language_info": {
      "name": "python"
    }
  },
  "cells": [
    {
      "cell_type": "markdown",
      "metadata": {
        "id": "view-in-github",
        "colab_type": "text"
      },
      "source": [
        "<a href=\"https://colab.research.google.com/github/m-soro/store_files/blob/main/PaperStore.ipynb\" target=\"_parent\"><img src=\"https://colab.research.google.com/assets/colab-badge.svg\" alt=\"Open In Colab\"/></a>"
      ]
    },
    {
      "cell_type": "code",
      "metadata": {
        "id": "33gTa4XBGD-q",
        "cellView": "form"
      },
      "source": [
        "#@markdown ## Create Paper Supply Template \n",
        "\n",
        "#@markdown <img src='https://ideal-ecopack.com/wp-content/uploads/2019/08/Food_Service-300x300.jpg'>\n",
        " \n",
        "#@markdown > *You must be signed in to your google account to use this app*\n",
        "\n",
        "#@markdown 1. **Start** here, click `execute` button <img src='https://github.com/m-soro/store_files/blob/main/execute.png?raw=true'> **TWICE**\n",
        "\n",
        "#@markdown * **First** click will import neccessary packages: \n",
        "#@markdown > <img src=\"https://github.com/m-soro/store_files/blob/main/first.png?raw=true\" alt=\"install confirmation\" width=\"500\" height=\"90\">\n",
        "\n",
        "#@markdown * **Second** click, none will be returned. **Okay to proceed**.\n",
        "\n",
        "#@markdown ---\n",
        "\n",
        "#@markdown > *If a **warning prompt** pops-up, click `run anyway`*\n",
        "\n",
        "#@markdown > <img src=\"https://github.com/m-soro/store_files/blob/main/warn.png?raw=true\" alt=\"warning\" width=\"500\" height=\"200\"> \n",
        "\n",
        "try:\n",
        "    import pandas as pd\n",
        "    import urllib.request\n",
        "    import xlsxwriter\n",
        "    from google.colab import files\n",
        "    import datetime\n",
        "    import ipywidgets as widgets\n",
        "except:\n",
        "    !pip install xlsxwriter\n",
        "\n",
        "# Get csv file from github\n",
        "url = 'https://raw.githubusercontent.com/m-soro/store_files/main/paper.csv'\n",
        "urllib.request.urlretrieve(url, 'paper.csv')\n",
        "df = pd.read_csv(\"paper.csv\",encoding='latin-1') \n",
        "df = df[6:-4]\n",
        "\n",
        "df.dropna(subset = [\"Unnamed: 1\"], inplace=True)\n",
        "df = df[df[\"Outlet Inventory Sheet\"].str.contains(\"Category\")==False]\n",
        "\n",
        "df.drop(columns=['Unnamed: 2', 'Unnamed: 4', 'Unnamed: 6', 'Unnamed: 7'], inplace=True)\n",
        "df.columns = ['Item_Num', 'Desc', 'Price','Unit']\n",
        "\n",
        "df['Desc'] = [n.replace('-',' ') for n in df.Desc] \n",
        "\n",
        "selected_data = []"
      ],
      "execution_count": null,
      "outputs": []
    },
    {
      "cell_type": "code",
      "metadata": {
        "id": "AXwPuPo6GG1C",
        "cellView": "form"
      },
      "source": [
        "#@title Search by Item Description { run: \"auto\", vertical-output: true }\n",
        "\n",
        "#@markdown \n",
        "#@markdown  2. Enter item Description below and click `execute` button\n",
        "#@markdown  * Check the items you wish to add your template.\n",
        "#@markdown  * Click `Add to Template` to include in the template.\n",
        "#@markdown  * Repeat above steps to add more items. \n",
        "#@markdown\n",
        "#@markdown  > If left **blank**, the **whole paper storeroom catalog** will be returned.\n",
        "\n",
        "#@title  { run: \"auto\" }\n",
        "Item = \"\" #@param {type:\"string\"}\n",
        "filteredDF = df[df['Desc'].str.contains((Item).title())]\n",
        "\n",
        "checkboxes = [widgets.Checkbox(layout=widgets.Layout(width='150%'),value=False, description=str(label)) for label in filteredDF.Desc]\n",
        "\n",
        "output = widgets.VBox(children=checkboxes)\n",
        "\n",
        "display(output)"
      ],
      "execution_count": null,
      "outputs": []
    },
    {
      "cell_type": "code",
      "metadata": {
        "id": "lnyreGO8GJly",
        "cellView": "form"
      },
      "source": [
        "#@title Add to Template { run: \"auto\" }\n",
        "# @markdown This will return what is added to template \n",
        "# @markdown >Uncheck the item after adding to avoid duplication\n",
        "for i in range(0, len(checkboxes)):\n",
        "    if checkboxes[i].value == True:\n",
        "        selected_data.append(checkboxes[i].description.split('-')[0])\n",
        "\n",
        "added_to_template = pd.DataFrame(selected_data, columns=['Items'])\n",
        "added_to_template"
      ],
      "execution_count": null,
      "outputs": []
    },
    {
      "cell_type": "code",
      "metadata": {
        "cellView": "form",
        "id": "MEIwojNlRKjW"
      },
      "source": [
        "#@title Clear Template\n",
        "#@markdown This will **delete all** selected items from the template\n",
        "selected_data.clear()\n"
      ],
      "execution_count": null,
      "outputs": []
    },
    {
      "cell_type": "code",
      "metadata": {
        "colab": {
          "base_uri": "https://localhost:8080/",
          "height": 17
        },
        "cellView": "form",
        "id": "YhLO-B0bRP6I",
        "outputId": "977266ef-7cc4-4026-e9a8-94a671fe1910"
      },
      "source": [
        "#@title Build/Save/Download the Template\n",
        "\n",
        "#@markdown  3. Enter the name of your template\n",
        "#@markdown  * A printable template will auto-download including the creation date\n",
        "\n",
        "\n",
        "template_name = \"paper template name\" #@param {type:\"string\"}\n",
        "template = pd.DataFrame(selected_data)\n",
        "\n",
        "sel_item_num = [df.query('Desc == @n').Item_Num.values[0] for n in template[0]]\n",
        "sel_desc = [df.query('Desc == @n').Desc.values[0] for n in template[0]]\n",
        "sel_unit = [df.query('Desc == @n').Unit.values[0] for n in template[0]]\n",
        "    \n",
        "template = pd.DataFrame(sel_item_num)\n",
        "template['Desc'] = sel_desc\n",
        "template['Unit'] = sel_unit\n",
        "template['Order_Qty'] = ' '\n",
        "template.columns = ['Item_Num', 'Description','Unit', 'Order Qty']\n",
        "\n",
        "sheet_name = template_name\n",
        "d = datetime.datetime.now().strftime(\"%m.%d.%y\")\n",
        "writer = pd.ExcelWriter(sheet_name + '_' + d +'.xlsx',engine='xlsxwriter')\n",
        "template.to_excel(writer,sheet_name=sheet_name,index=False)\n",
        "worksheet = writer.sheets[sheet_name]\n",
        "worksheet.set_column('B:B', template['Description'].str.len().max())\n",
        "worksheet.set_header(sheet_name + '_' + d)\n",
        "worksheet.fit_to_pages(1, 1)\n",
        "writer.save()\n",
        "files.download(sheet_name + '_' + d +'.xlsx')"
      ],
      "execution_count": null,
      "outputs": [
        {
          "output_type": "display_data",
          "data": {
            "application/javascript": [
              "\n",
              "    async function download(id, filename, size) {\n",
              "      if (!google.colab.kernel.accessAllowed) {\n",
              "        return;\n",
              "      }\n",
              "      const div = document.createElement('div');\n",
              "      const label = document.createElement('label');\n",
              "      label.textContent = `Downloading \"${filename}\": `;\n",
              "      div.appendChild(label);\n",
              "      const progress = document.createElement('progress');\n",
              "      progress.max = size;\n",
              "      div.appendChild(progress);\n",
              "      document.body.appendChild(div);\n",
              "\n",
              "      const buffers = [];\n",
              "      let downloaded = 0;\n",
              "\n",
              "      const channel = await google.colab.kernel.comms.open(id);\n",
              "      // Send a message to notify the kernel that we're ready.\n",
              "      channel.send({})\n",
              "\n",
              "      for await (const message of channel.messages) {\n",
              "        // Send a message to notify the kernel that we're ready.\n",
              "        channel.send({})\n",
              "        if (message.buffers) {\n",
              "          for (const buffer of message.buffers) {\n",
              "            buffers.push(buffer);\n",
              "            downloaded += buffer.byteLength;\n",
              "            progress.value = downloaded;\n",
              "          }\n",
              "        }\n",
              "      }\n",
              "      const blob = new Blob(buffers, {type: 'application/binary'});\n",
              "      const a = document.createElement('a');\n",
              "      a.href = window.URL.createObjectURL(blob);\n",
              "      a.download = filename;\n",
              "      div.appendChild(a);\n",
              "      a.click();\n",
              "      div.remove();\n",
              "    }\n",
              "  "
            ],
            "text/plain": [
              "<IPython.core.display.Javascript object>"
            ]
          },
          "metadata": {}
        },
        {
          "output_type": "display_data",
          "data": {
            "application/javascript": [
              "download(\"download_9b24c709-eb0d-4fc7-bed1-6f68457224ed\", \"paper template name_09.19.21.xlsx\", 5792)"
            ],
            "text/plain": [
              "<IPython.core.display.Javascript object>"
            ]
          },
          "metadata": {}
        }
      ]
    }
  ]
}